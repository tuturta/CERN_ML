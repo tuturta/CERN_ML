{
 "cells": [
  {
   "cell_type": "code",
   "execution_count": 139,
   "metadata": {},
   "outputs": [],
   "source": [
    "import numpy as np\n",
    "import pandas as pd\n",
    "import matplotlib.pyplot as plt"
   ]
  },
  {
   "cell_type": "code",
   "execution_count": 140,
   "metadata": {},
   "outputs": [
    {
     "data": {
      "text/html": [
       "<div>\n",
       "<style scoped>\n",
       "    .dataframe tbody tr th:only-of-type {\n",
       "        vertical-align: middle;\n",
       "    }\n",
       "\n",
       "    .dataframe tbody tr th {\n",
       "        vertical-align: top;\n",
       "    }\n",
       "\n",
       "    .dataframe thead th {\n",
       "        text-align: right;\n",
       "    }\n",
       "</style>\n",
       "<table border=\"1\" class=\"dataframe\">\n",
       "  <thead>\n",
       "    <tr style=\"text-align: right;\">\n",
       "      <th></th>\n",
       "      <th>seed</th>\n",
       "      <th>angle</th>\n",
       "      <th>amp</th>\n",
       "      <th>sturns1</th>\n",
       "      <th>sturns2</th>\n",
       "    </tr>\n",
       "  </thead>\n",
       "  <tbody>\n",
       "    <tr>\n",
       "      <th>0</th>\n",
       "      <td>1</td>\n",
       "      <td>7.5</td>\n",
       "      <td>0.000000</td>\n",
       "      <td>100000</td>\n",
       "      <td>100000</td>\n",
       "    </tr>\n",
       "    <tr>\n",
       "      <th>1</th>\n",
       "      <td>1</td>\n",
       "      <td>7.5</td>\n",
       "      <td>0.068966</td>\n",
       "      <td>100000</td>\n",
       "      <td>100000</td>\n",
       "    </tr>\n",
       "    <tr>\n",
       "      <th>2</th>\n",
       "      <td>1</td>\n",
       "      <td>7.5</td>\n",
       "      <td>0.137931</td>\n",
       "      <td>100000</td>\n",
       "      <td>100000</td>\n",
       "    </tr>\n",
       "    <tr>\n",
       "      <th>3</th>\n",
       "      <td>1</td>\n",
       "      <td>7.5</td>\n",
       "      <td>0.206897</td>\n",
       "      <td>100000</td>\n",
       "      <td>100000</td>\n",
       "    </tr>\n",
       "    <tr>\n",
       "      <th>4</th>\n",
       "      <td>1</td>\n",
       "      <td>7.5</td>\n",
       "      <td>0.275862</td>\n",
       "      <td>100000</td>\n",
       "      <td>100000</td>\n",
       "    </tr>\n",
       "    <tr>\n",
       "      <th>...</th>\n",
       "      <td>...</td>\n",
       "      <td>...</td>\n",
       "      <td>...</td>\n",
       "      <td>...</td>\n",
       "      <td>...</td>\n",
       "    </tr>\n",
       "    <tr>\n",
       "      <th>172776</th>\n",
       "      <td>60</td>\n",
       "      <td>82.5</td>\n",
       "      <td>8.137931</td>\n",
       "      <td>11576</td>\n",
       "      <td>24342</td>\n",
       "    </tr>\n",
       "    <tr>\n",
       "      <th>172778</th>\n",
       "      <td>60</td>\n",
       "      <td>82.5</td>\n",
       "      <td>8.275862</td>\n",
       "      <td>20293</td>\n",
       "      <td>29563</td>\n",
       "    </tr>\n",
       "    <tr>\n",
       "      <th>172787</th>\n",
       "      <td>60</td>\n",
       "      <td>82.5</td>\n",
       "      <td>8.896552</td>\n",
       "      <td>6582</td>\n",
       "      <td>12341</td>\n",
       "    </tr>\n",
       "    <tr>\n",
       "      <th>172790</th>\n",
       "      <td>60</td>\n",
       "      <td>82.5</td>\n",
       "      <td>9.103448</td>\n",
       "      <td>16539</td>\n",
       "      <td>20993</td>\n",
       "    </tr>\n",
       "    <tr>\n",
       "      <th>172798</th>\n",
       "      <td>60</td>\n",
       "      <td>82.5</td>\n",
       "      <td>9.655172</td>\n",
       "      <td>16083</td>\n",
       "      <td>18468</td>\n",
       "    </tr>\n",
       "  </tbody>\n",
       "</table>\n",
       "<p>75249 rows × 5 columns</p>\n",
       "</div>"
      ],
      "text/plain": [
       "        seed  angle       amp  sturns1  sturns2\n",
       "0          1    7.5  0.000000   100000   100000\n",
       "1          1    7.5  0.068966   100000   100000\n",
       "2          1    7.5  0.137931   100000   100000\n",
       "3          1    7.5  0.206897   100000   100000\n",
       "4          1    7.5  0.275862   100000   100000\n",
       "...      ...    ...       ...      ...      ...\n",
       "172776    60   82.5  8.137931    11576    24342\n",
       "172778    60   82.5  8.275862    20293    29563\n",
       "172787    60   82.5  8.896552     6582    12341\n",
       "172790    60   82.5  9.103448    16539    20993\n",
       "172798    60   82.5  9.655172    16083    18468\n",
       "\n",
       "[75249 rows x 5 columns]"
      ]
     },
     "execution_count": 140,
     "metadata": {},
     "output_type": "execute_result"
    }
   ],
   "source": [
    "df = pd.read_csv('Data/CERN_DAs/hl14_collision_tune_62.250_60.250_chrom_5_oct_-200_B1_errorFRAS_xing250.surv.csv')\n",
    "\n",
    "# keep only the survivals\n",
    "df = df[df.sturns2 > 10000]\n",
    "df"
   ]
  },
  {
   "cell_type": "code",
   "execution_count": 141,
   "metadata": {},
   "outputs": [
    {
     "data": {
      "text/plain": [
       "75.0    7088\n",
       "82.5    7029\n",
       "67.5    6966\n",
       "37.5    6895\n",
       "22.5    6800\n",
       "30.0    6795\n",
       "45.0    6780\n",
       "60.0    6744\n",
       "15.0    6743\n",
       "7.5     6713\n",
       "52.5    6696\n",
       "Name: angle, dtype: int64"
      ]
     },
     "execution_count": 141,
     "metadata": {},
     "output_type": "execute_result"
    }
   ],
   "source": [
    "# Check which angles are used \n",
    "df.angle.value_counts()"
   ]
  },
  {
   "cell_type": "code",
   "execution_count": 142,
   "metadata": {},
   "outputs": [
    {
     "data": {
      "image/png": "[encoded data removed]",
      "text/plain": [
       "<Figure size 640x480 with 1 Axes>"
      ]
     },
     "metadata": {},
     "output_type": "display_data"
    }
   ],
   "source": [
    "# Transform polar coordinates into cartesian coordinates\n",
    "x = df.amp.to_numpy()*np.cos(np.radians(df.angle.to_numpy()))\n",
    "y = df.amp.to_numpy()*np.sin(np.radians(df.angle.to_numpy()))\n",
    "\n",
    "# plot the sample\n",
    "plt.figure()\n",
    "plt.plot(x,y ,'k.')\n",
    "plt.show()"
   ]
  },
  {
   "cell_type": "code",
   "execution_count": 143,
   "metadata": {},
   "outputs": [
    {
     "name": "stdout",
     "output_type": "stream",
     "text": [
      "Average distance =  0.00014308479978299902\n"
     ]
    }
   ],
   "source": [
    "amplitude = df[df.angle == 45].sort_values(by = 'amp').amp.to_numpy()\n",
    "NN_distance = 0\n",
    "for i in range(len(amplitude) -1):\n",
    "    NN_distance += amplitude[i+1] - amplitude[i]\n",
    "\n",
    "print(\"Average distance = \", NN_distance/((len(amplitude))*15))"
   ]
  },
  {
   "cell_type": "code",
   "execution_count": 145,
   "metadata": {},
   "outputs": [
    {
     "data": {
      "text/plain": [
       "0.0075"
      ]
     },
     "execution_count": 145,
     "metadata": {},
     "output_type": "execute_result"
    }
   ],
   "source": [
    "0.00050*15"
   ]
  }
 ],
 "metadata": {
  "kernelspec": {
   "display_name": "Python 3.10.1 64-bit ('3.10.1')",
   "language": "python",
   "name": "python3"
  },
  "language_info": {
   "codemirror_mode": {
    "name": "ipython",
    "version": 3
   },
   "file_extension": ".py",
   "mimetype": "text/x-python",
   "name": "python",
   "nbconvert_exporter": "python",
   "pygments_lexer": "ipython3",
   "version": "3.10.1"
  },
  "orig_nbformat": 4,
  "vscode": {
   "interpreter": {
    "hash": "63412e708ced85145ee3358b7b7540b5b7bcbe0d3c78f470347fabcaf1a15eaf"
   }
  }
 },
 "nbformat": 4,
 "nbformat_minor": 2
}
